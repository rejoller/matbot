{
 "cells": [
  {
   "cell_type": "code",
   "execution_count": 2,
   "metadata": {},
   "outputs": [],
   "source": [
    "from pymongo.mongo_client import MongoClient"
   ]
  },
  {
   "cell_type": "code",
   "execution_count": 3,
   "metadata": {},
   "outputs": [],
   "source": [
    "client = MongoClient('mongodb://localhost:27017')"
   ]
  },
  {
   "cell_type": "code",
   "execution_count": 4,
   "metadata": {},
   "outputs": [],
   "source": [
    "db = client.mat_db"
   ]
  },
  {
   "cell_type": "code",
   "execution_count": 219,
   "metadata": {},
   "outputs": [],
   "source": [
    "users_dict = ({'telegram_id':None,\n",
    "        'balance': 0,\n",
    "        'history': []})"
   ]
  },
  {
   "cell_type": "code",
   "execution_count": 5,
   "metadata": {},
   "outputs": [],
   "source": [
    "users_dict = []"
   ]
  },
  {
   "cell_type": "code",
   "execution_count": 7,
   "metadata": {},
   "outputs": [
    {
     "data": {
      "text/plain": [
       "[{'telegram_id': 374056328,\n",
       "  'balance': 1000,\n",
       "  'history': [{'amount': 500, 'date': '2024-01-01T10:00:00Z'},\n",
       "   {'amount': 500, 'date': '2024-02-01T10:00:00Z'}]},\n",
       " {'telegram_id': 402748716,\n",
       "  'balance': 110,\n",
       "  'history': [{'amount': 1000, 'date': '2024-01-01T10:00:00Z'},\n",
       "   {'amount': 500, 'date': '2024-02-01T10:00:00Z'},\n",
       "   {'amount': 10, 'date': '2024-05-17 14:35:10'},\n",
       "   {'amount': 10, 'date': '2024-05-17 14:38:57'},\n",
       "   {'amount': 10, 'date': '2024-05-17 14:41:17'},\n",
       "   {'amount': 10, 'date': '2024-05-17 14:42:35'},\n",
       "   {'amount': 10, 'date': '2024-05-17 14:44:38'},\n",
       "   {'amount': 10, 'date': '2024-05-17 14:46:41'},\n",
       "   {'amount': 10, 'date': '2024-05-17 14:46:45'},\n",
       "   {'amount': 10, 'date': '2024-05-17 14:55:07'},\n",
       "   {'amount': 10, 'date': '2024-05-17 14:59:37'},\n",
       "   {'amount': 10, 'date': '2024-05-17 15:00:03'},\n",
       "   {'amount': 10, 'date': '2024-05-17 15:01:39'},\n",
       "   {'amount': 10, 'date': '2024-05-17 15:02:58'},\n",
       "   {'amount': 10, 'date': '2024-05-17 15:03:05'},\n",
       "   {'amount': 10, 'date': '2024-05-17 15:04:14'},\n",
       "   {'amount': 10, 'date': '2024-05-17 15:04:19'},\n",
       "   {'amount': 10, 'date': '2024-05-17 15:05:55'},\n",
       "   {'amount': 10, 'date': '2024-05-17 15:08:57'},\n",
       "   {'amount': 10, 'date': '2024-05-17 15:09:01'},\n",
       "   {'amount': 10, 'date': '2024-05-17 15:09:03'},\n",
       "   {'amount': 10, 'date': '2024-05-17 15:09:14'},\n",
       "   {'amount': 10, 'date': '2024-05-17 15:13:30'},\n",
       "   {'amount': 10, 'date': '2024-05-17 15:13:33'},\n",
       "   {'amount': 10, 'date': '2024-05-17 15:20:43'},\n",
       "   {'amount': 10, 'date': '2024-05-17 15:23:19'},\n",
       "   {'amount': 10, 'date': '2024-05-17 15:23:35'},\n",
       "   {'amount': 10, 'date': '2024-05-17 15:37:36'},\n",
       "   {'amount': 10, 'date': '2024-05-17 15:40:09'},\n",
       "   {'amount': 10, 'date': '2024-05-17 15:40:15'},\n",
       "   {'amount': 10, 'date': '2024-05-17 15:40:20'},\n",
       "   {'amount': 10, 'date': '2024-05-17 15:40:24'}]},\n",
       " {'telegram_id': 964635576, 'balance': 0, 'history': []}]"
      ]
     },
     "execution_count": 7,
     "metadata": {},
     "output_type": "execute_result"
    }
   ],
   "source": [
    "users_dict"
   ]
  },
  {
   "cell_type": "code",
   "execution_count": 6,
   "metadata": {},
   "outputs": [],
   "source": [
    "\n",
    "\n",
    "\n",
    "for i in db.users.find():\n",
    "    \n",
    "    users_dict.append({'telegram_id':i['user_id'], 'balance': i['balance'],  'history': i['history']})\n",
    "\n",
    "    \n",
    "\n",
    "\n",
    "\n",
    "\n"
   ]
  },
  {
   "cell_type": "code",
   "execution_count": 8,
   "metadata": {},
   "outputs": [],
   "source": [
    "users_histories = []\n",
    "\n",
    "for i in db.users.find():\n",
    "    users_histories.append(i['history'])\n",
    "\n"
   ]
  },
  {
   "cell_type": "code",
   "execution_count": 9,
   "metadata": {},
   "outputs": [
    {
     "name": "stdout",
     "output_type": "stream",
     "text": [
      "[{'amount': 500, 'date': '2024-01-01T10:00:00Z'}, {'amount': 500, 'date': '2024-02-01T10:00:00Z'}]\n",
      "[{'amount': 1000, 'date': '2024-01-01T10:00:00Z'}, {'amount': 500, 'date': '2024-02-01T10:00:00Z'}, {'amount': 10, 'date': '2024-05-17 14:35:10'}, {'amount': 10, 'date': '2024-05-17 14:38:57'}, {'amount': 10, 'date': '2024-05-17 14:41:17'}, {'amount': 10, 'date': '2024-05-17 14:42:35'}, {'amount': 10, 'date': '2024-05-17 14:44:38'}, {'amount': 10, 'date': '2024-05-17 14:46:41'}, {'amount': 10, 'date': '2024-05-17 14:46:45'}, {'amount': 10, 'date': '2024-05-17 14:55:07'}, {'amount': 10, 'date': '2024-05-17 14:59:37'}, {'amount': 10, 'date': '2024-05-17 15:00:03'}, {'amount': 10, 'date': '2024-05-17 15:01:39'}, {'amount': 10, 'date': '2024-05-17 15:02:58'}, {'amount': 10, 'date': '2024-05-17 15:03:05'}, {'amount': 10, 'date': '2024-05-17 15:04:14'}, {'amount': 10, 'date': '2024-05-17 15:04:19'}, {'amount': 10, 'date': '2024-05-17 15:05:55'}, {'amount': 10, 'date': '2024-05-17 15:08:57'}, {'amount': 10, 'date': '2024-05-17 15:09:01'}, {'amount': 10, 'date': '2024-05-17 15:09:03'}, {'amount': 10, 'date': '2024-05-17 15:09:14'}, {'amount': 10, 'date': '2024-05-17 15:13:30'}, {'amount': 10, 'date': '2024-05-17 15:13:33'}, {'amount': 10, 'date': '2024-05-17 15:20:43'}, {'amount': 10, 'date': '2024-05-17 15:23:19'}, {'amount': 10, 'date': '2024-05-17 15:23:35'}, {'amount': 10, 'date': '2024-05-17 15:37:36'}, {'amount': 10, 'date': '2024-05-17 15:40:09'}, {'amount': 10, 'date': '2024-05-17 15:40:15'}, {'amount': 10, 'date': '2024-05-17 15:40:20'}, {'amount': 10, 'date': '2024-05-17 15:40:24'}]\n",
      "[]\n"
     ]
    }
   ],
   "source": [
    "for i in users_histories:\n",
    "    print(f'{i}')"
   ]
  },
  {
   "cell_type": "code",
   "execution_count": 13,
   "metadata": {},
   "outputs": [],
   "source": [
    "usernames = []"
   ]
  },
  {
   "cell_type": "code",
   "execution_count": 14,
   "metadata": {},
   "outputs": [],
   "source": [
    "for i in db.users.find():\n",
    "            usernames.append(i['name'])"
   ]
  },
  {
   "cell_type": "code",
   "execution_count": 15,
   "metadata": {},
   "outputs": [
    {
     "data": {
      "text/plain": [
       "['vlad', 'Vladislav', 'ыыва']"
      ]
     },
     "execution_count": 15,
     "metadata": {},
     "output_type": "execute_result"
    }
   ],
   "source": [
    "usernames"
   ]
  },
  {
   "cell_type": "code",
   "execution_count": 16,
   "metadata": {},
   "outputs": [
    {
     "name": "stdout",
     "output_type": "stream",
     "text": [
      "[{'amount': 500, 'date': '2024-01-01T10:00:00Z'}, {'amount': 500, 'date': '2024-02-01T10:00:00Z'}]\n"
     ]
    },
    {
     "data": {
      "text/plain": [
       "[{'amount': 500, 'date': '2024-02-01T10:00:00Z'},\n",
       " {'amount': 500, 'date': '2024-01-01T10:00:00Z'}]"
      ]
     },
     "execution_count": 16,
     "metadata": {},
     "output_type": "execute_result"
    }
   ],
   "source": [
    "get_recent_history_until_negative(history=users_histories)"
   ]
  }
 ],
 "metadata": {
  "kernelspec": {
   "display_name": ".venv",
   "language": "python",
   "name": "python3"
  },
  "language_info": {
   "codemirror_mode": {
    "name": "ipython",
    "version": 3
   },
   "file_extension": ".py",
   "mimetype": "text/x-python",
   "name": "python",
   "nbconvert_exporter": "python",
   "pygments_lexer": "ipython3",
   "version": "3.11.9"
  }
 },
 "nbformat": 4,
 "nbformat_minor": 2
}
