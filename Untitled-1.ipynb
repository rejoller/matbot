{
 "cells": [
  {
   "cell_type": "code",
   "execution_count": 23,
   "metadata": {},
   "outputs": [],
   "source": [
    "from pymongo.mongo_client import MongoClient"
   ]
  },
  {
   "cell_type": "code",
   "execution_count": 109,
   "metadata": {},
   "outputs": [],
   "source": [
    "client = MongoClient('mongodb://localhost:27017')"
   ]
  },
  {
   "cell_type": "code",
   "execution_count": 110,
   "metadata": {},
   "outputs": [],
   "source": [
    "db = client.mat_db"
   ]
  },
  {
   "cell_type": "code",
   "execution_count": 219,
   "metadata": {},
   "outputs": [],
   "source": [
    "users_dict = ({'telegram_id':None,\n",
    "        'balance': 0,\n",
    "        'history': []})"
   ]
  },
  {
   "cell_type": "code",
   "execution_count": 224,
   "metadata": {},
   "outputs": [],
   "source": [
    "users_dict = []"
   ]
  },
  {
   "cell_type": "code",
   "execution_count": null,
   "metadata": {},
   "outputs": [],
   "source": []
  },
  {
   "cell_type": "code",
   "execution_count": 225,
   "metadata": {},
   "outputs": [],
   "source": [
    "\n",
    "\n",
    "\n",
    "for i in db.users.find():\n",
    "    \n",
    "    users_dict.append({'telegram_id':i['user_id'], 'balance': i['balance'],  'history': i['history']})\n",
    "\n",
    "    \n",
    "\n",
    "\n",
    "\n",
    "\n"
   ]
  },
  {
   "cell_type": "code",
   "execution_count": 233,
   "metadata": {},
   "outputs": [],
   "source": [
    "users_histories = []\n",
    "\n",
    "for i in db.users.find():\n",
    "    users_histories.append(i['history'])\n",
    "\n"
   ]
  },
  {
   "cell_type": "code",
   "execution_count": 235,
   "metadata": {},
   "outputs": [
    {
     "name": "stdout",
     "output_type": "stream",
     "text": [
      "[{'amount': 500, 'date': '2024-01-01T10:00:00Z'}, {'amount': 500, 'date': '2024-02-01T10:00:00Z'}]\n",
      "[{'amount': 1000, 'date': '2024-01-01T10:00:00Z'}, {'amount': 500, 'date': '2024-02-01T10:00:00Z'}, {'amount': 10, 'date': '2024-05-17 14:35:10'}, {'amount': 10, 'date': '2024-05-17 14:38:57'}, {'amount': 10, 'date': '2024-05-17 14:41:17'}, {'amount': 10, 'date': '2024-05-17 14:42:35'}, {'amount': 10, 'date': '2024-05-17 14:44:38'}, {'amount': 10, 'date': '2024-05-17 14:46:41'}, {'amount': 10, 'date': '2024-05-17 14:46:45'}, {'amount': 10, 'date': '2024-05-17 14:55:07'}, {'amount': 10, 'date': '2024-05-17 14:59:37'}, {'amount': 10, 'date': '2024-05-17 15:00:03'}, {'amount': 10, 'date': '2024-05-17 15:01:39'}, {'amount': 10, 'date': '2024-05-17 15:02:58'}, {'amount': 10, 'date': '2024-05-17 15:03:05'}, {'amount': 10, 'date': '2024-05-17 15:04:14'}, {'amount': 10, 'date': '2024-05-17 15:04:19'}, {'amount': 10, 'date': '2024-05-17 15:05:55'}, {'amount': 10, 'date': '2024-05-17 15:08:57'}, {'amount': 10, 'date': '2024-05-17 15:09:01'}, {'amount': 10, 'date': '2024-05-17 15:09:03'}, {'amount': 10, 'date': '2024-05-17 15:09:14'}, {'amount': 10, 'date': '2024-05-17 15:13:30'}, {'amount': 10, 'date': '2024-05-17 15:13:33'}, {'amount': 10, 'date': '2024-05-17 15:20:43'}, {'amount': 10, 'date': '2024-05-17 15:23:19'}, {'amount': 10, 'date': '2024-05-17 15:23:35'}, {'amount': 10, 'date': '2024-05-17 15:37:36'}, {'amount': 10, 'date': '2024-05-17 15:40:09'}, {'amount': 10, 'date': '2024-05-17 15:40:15'}, {'amount': 10, 'date': '2024-05-17 15:40:20'}, {'amount': 10, 'date': '2024-05-17 15:40:24'}]\n",
      "[]\n"
     ]
    }
   ],
   "source": [
    "for i in users_histories:\n",
    "    print(f'{i}')"
   ]
  },
  {
   "cell_type": "code",
   "execution_count": 239,
   "metadata": {},
   "outputs": [],
   "source": [
    "def get_recent_history_until_negative(history):\n",
    "    print(history)\n",
    "    recent_history = []\n",
    "    \n",
    "    for record in reversed(history):\n",
    "        recent_history.append(record)\n",
    "        if record['amount'] < 0:\n",
    "            break\n",
    "    return recent_history"
   ]
  },
  {
   "cell_type": "code",
   "execution_count": 240,
   "metadata": {},
   "outputs": [
    {
     "name": "stdout",
     "output_type": "stream",
     "text": [
      "[[{'amount': 500, 'date': '2024-01-01T10:00:00Z'}, {'amount': 500, 'date': '2024-02-01T10:00:00Z'}], [{'amount': 1000, 'date': '2024-01-01T10:00:00Z'}, {'amount': 500, 'date': '2024-02-01T10:00:00Z'}, {'amount': 10, 'date': '2024-05-17 14:35:10'}, {'amount': 10, 'date': '2024-05-17 14:38:57'}, {'amount': 10, 'date': '2024-05-17 14:41:17'}, {'amount': 10, 'date': '2024-05-17 14:42:35'}, {'amount': 10, 'date': '2024-05-17 14:44:38'}, {'amount': 10, 'date': '2024-05-17 14:46:41'}, {'amount': 10, 'date': '2024-05-17 14:46:45'}, {'amount': 10, 'date': '2024-05-17 14:55:07'}, {'amount': 10, 'date': '2024-05-17 14:59:37'}, {'amount': 10, 'date': '2024-05-17 15:00:03'}, {'amount': 10, 'date': '2024-05-17 15:01:39'}, {'amount': 10, 'date': '2024-05-17 15:02:58'}, {'amount': 10, 'date': '2024-05-17 15:03:05'}, {'amount': 10, 'date': '2024-05-17 15:04:14'}, {'amount': 10, 'date': '2024-05-17 15:04:19'}, {'amount': 10, 'date': '2024-05-17 15:05:55'}, {'amount': 10, 'date': '2024-05-17 15:08:57'}, {'amount': 10, 'date': '2024-05-17 15:09:01'}, {'amount': 10, 'date': '2024-05-17 15:09:03'}, {'amount': 10, 'date': '2024-05-17 15:09:14'}, {'amount': 10, 'date': '2024-05-17 15:13:30'}, {'amount': 10, 'date': '2024-05-17 15:13:33'}, {'amount': 10, 'date': '2024-05-17 15:20:43'}, {'amount': 10, 'date': '2024-05-17 15:23:19'}, {'amount': 10, 'date': '2024-05-17 15:23:35'}, {'amount': 10, 'date': '2024-05-17 15:37:36'}, {'amount': 10, 'date': '2024-05-17 15:40:09'}, {'amount': 10, 'date': '2024-05-17 15:40:15'}, {'amount': 10, 'date': '2024-05-17 15:40:20'}, {'amount': 10, 'date': '2024-05-17 15:40:24'}], []]\n"
     ]
    },
    {
     "ename": "TypeError",
     "evalue": "list indices must be integers or slices, not str",
     "output_type": "error",
     "traceback": [
      "\u001b[0;31m---------------------------------------------------------------------------\u001b[0m",
      "\u001b[0;31mTypeError\u001b[0m                                 Traceback (most recent call last)",
      "Cell \u001b[0;32mIn[240], line 1\u001b[0m\n\u001b[0;32m----> 1\u001b[0m \u001b[43mget_recent_history_until_negative\u001b[49m\u001b[43m(\u001b[49m\u001b[43mhistory\u001b[49m\u001b[38;5;241;43m=\u001b[39;49m\u001b[43musers_histories\u001b[49m\u001b[43m)\u001b[49m\n",
      "Cell \u001b[0;32mIn[239], line 7\u001b[0m, in \u001b[0;36mget_recent_history_until_negative\u001b[0;34m(history)\u001b[0m\n\u001b[1;32m      5\u001b[0m \u001b[38;5;28;01mfor\u001b[39;00m record \u001b[38;5;129;01min\u001b[39;00m \u001b[38;5;28mreversed\u001b[39m(history):\n\u001b[1;32m      6\u001b[0m     recent_history\u001b[38;5;241m.\u001b[39mappend(record)\n\u001b[0;32m----> 7\u001b[0m     \u001b[38;5;28;01mif\u001b[39;00m \u001b[43mrecord\u001b[49m\u001b[43m[\u001b[49m\u001b[38;5;124;43m'\u001b[39;49m\u001b[38;5;124;43mamount\u001b[39;49m\u001b[38;5;124;43m'\u001b[39;49m\u001b[43m]\u001b[49m \u001b[38;5;241m<\u001b[39m \u001b[38;5;241m0\u001b[39m:\n\u001b[1;32m      8\u001b[0m         \u001b[38;5;28;01mbreak\u001b[39;00m\n\u001b[1;32m      9\u001b[0m \u001b[38;5;28;01mreturn\u001b[39;00m recent_history\n",
      "\u001b[0;31mTypeError\u001b[0m: list indices must be integers or slices, not str"
     ]
    }
   ],
   "source": [
    "get_recent_history_until_negative(history=users_histories)"
   ]
  }
 ],
 "metadata": {
  "kernelspec": {
   "display_name": ".venv",
   "language": "python",
   "name": "python3"
  },
  "language_info": {
   "codemirror_mode": {
    "name": "ipython",
    "version": 3
   },
   "file_extension": ".py",
   "mimetype": "text/x-python",
   "name": "python",
   "nbconvert_exporter": "python",
   "pygments_lexer": "ipython3",
   "version": "3.11.9"
  }
 },
 "nbformat": 4,
 "nbformat_minor": 2
}
